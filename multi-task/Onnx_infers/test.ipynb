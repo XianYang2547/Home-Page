{
 "cells": [
  {
   "cell_type": "code",
   "execution_count": null,
   "metadata": {
    "collapsed": true
   },
   "outputs": [],
   "source": [
    "# -*- coding: utf-8 -*-\n",
    "# @Time    : 2024/2/21 17:05\n",
    "# @Author  : XianYang🚀\n",
    "# @Email   : xy_mts@163.com\n",
    "# @File    : laneseg_cv2_test.py\n",
    "# ------❤❤❤------ #\n",
    "\n",
    "#\n",
    "import cv2\n",
    "import numpy as np\n",
    "\n",
    "lane_seg = cv2.imread('61--3.png')\n",
    "image = cv2.cvtColor(lane_seg, cv2.COLOR_BGR2GRAY)\n",
    "_, binary_image = cv2.threshold(image.astype(np.uint8), 127, 255, cv2.THRESH_BINARY)\n",
    "kernel = np.ones((8, 8), np.uint8)\n",
    "morph_image = cv2.morphologyEx(binary_image, cv2.MORPH_DILATE, kernel)\n",
    "# 连通区域分析[数量 标签 状态 质心]\n",
    "num_labels, labels, stats, centroids = cv2.connectedComponentsWithStats(morph_image, connectivity=8)\n",
    "# 设置像素数量阈值\n",
    "pixel_threshold = 3000\n",
    "# 统计像素数量超过阈值的连通区域\n",
    "lane_lines_count = 0\n",
    "for i in range(1, num_labels):\n",
    "    if stats[i, cv2.CC_STAT_AREA] > pixel_threshold:\n",
    "        lane_lines_count += 1\n",
    "print(lane_lines_count)\n",
    "cv2.imshow('6',morph_image)\n",
    "cv2.waitKey()"
   ]
  },
  {
   "cell_type": "code",
   "execution_count": 9,
   "outputs": [],
   "source": [
    "import cv2\n",
    "import json\n",
    "\n",
    "\n",
    "\n",
    "\n",
    "with open(r\"zzz.json\", 'r', encoding='utf-8') as file:\n",
    "    json_data = json.load(file)\n",
    "# 读取图像\n",
    "image = cv2.imread(r'E:\\train\\images\\00001.jpg')\n",
    "\n",
    "# 确定矩形框的位置和大小\n",
    "\n",
    "x, y, width, height = 1195, 944, 354, 235\n",
    "cx = x + width // 2\n",
    "cy = y + height // 2\n",
    "# 在图像上画矩形框\n",
    "cv2.rectangle(image, (x, y), (x + width, y + height), (255, 0, 0), 2)  # 参数依次为：图像，矩形左上角坐标，矩形右下角坐标，颜色，线宽\n",
    "cv2.rectangle(image, (cx - width // 2, cy - height // 2), (cx + width // 2, cy + height // 2), (0, 255, 0), 1)  # 新矩形框\n",
    "# 显示带有矩形框的图像\n",
    "cv2.namedWindow('Image with Rectangle', cv2.WINDOW_NORMAL)\n",
    "cv2.resizeWindow('Image with Rectangle', 1280, 720)\n",
    "cv2.imshow('Image with Rectangle', image)\n",
    "cv2.waitKey(0)\n",
    "cv2.destroyAllWindows()\n"
   ],
   "metadata": {
    "collapsed": false,
    "ExecuteTime": {
     "start_time": "2024-02-26T10:58:20.121529Z",
     "end_time": "2024-02-26T10:58:33.612926Z"
    }
   }
  }
 ],
 "metadata": {
  "kernelspec": {
   "display_name": "Python 3",
   "language": "python",
   "name": "python3"
  },
  "language_info": {
   "codemirror_mode": {
    "name": "ipython",
    "version": 2
   },
   "file_extension": ".py",
   "mimetype": "text/x-python",
   "name": "python",
   "nbconvert_exporter": "python",
   "pygments_lexer": "ipython2",
   "version": "2.7.6"
  }
 },
 "nbformat": 4,
 "nbformat_minor": 0
}
